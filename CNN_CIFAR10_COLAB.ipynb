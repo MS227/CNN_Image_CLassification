{
  "cells": [
    {
      "cell_type": "code",
      "execution_count": 1,
      "metadata": {
        "id": "unavailable-dividend"
      },
      "outputs": [],
      "source": [
        "#Import the required libraries\n",
        "import keras\n",
        "import os\n",
        "import cv2\n",
        "import numpy as np\n",
        "import pandas as pd\n",
        "import tensorflow as tf\n",
        "import matplotlib.pyplot  as plt\n",
        "from PIL import Image"
      ],
      "id": "unavailable-dividend"
    },
    {
      "cell_type": "code",
      "execution_count": 2,
      "metadata": {
        "colab": {
          "base_uri": "https://localhost:8080/"
        },
        "id": "Wy8Mql5Jxx-p",
        "outputId": "c12a5d65-78ea-4f46-f941-689015d088b5"
      },
      "outputs": [
        {
          "output_type": "stream",
          "name": "stdout",
          "text": [
            "Downloading data from https://www.cs.toronto.edu/~kriz/cifar-10-python.tar.gz\n",
            "170498071/170498071 [==============================] - 6s 0us/step\n",
            "Training data shape: (50000, 32, 32, 3)\n",
            "Testing data shape: (10000, 32, 32, 3)\n",
            "Training labels shape: (50000, 1)\n",
            "Testing labels shape: (10000, 1)\n"
          ]
        }
      ],
      "source": [
        "from tensorflow.keras.datasets import cifar10\n",
        "from sklearn.model_selection import train_test_split\n",
        "\n",
        "\n",
        "\n",
        "# Split the data into training and testing sets\n",
        "(X_train, y_train), (X_test, y_test) = cifar10.load_data()\n",
        "\n",
        "# Check the shapes of the resulting datasets\n",
        "print(\"Training data shape:\", X_train.shape)\n",
        "print(\"Testing data shape:\", X_test.shape)\n",
        "print(\"Training labels shape:\", y_train.shape)\n",
        "print(\"Testing labels shape:\", y_test.shape)\n"
      ],
      "id": "Wy8Mql5Jxx-p"
    },
    {
      "cell_type": "code",
      "execution_count": 3,
      "metadata": {
        "id": "comparable-falls"
      },
      "outputs": [],
      "source": [
        "#Set the image size to reresize all the images into (im_size x im_size x 3)\n",
        "global im_size\n",
        "im_size = 32\n",
        "training_data = []"
      ],
      "id": "comparable-falls"
    },
    {
      "cell_type": "code",
      "execution_count": 45,
      "metadata": {
        "id": "north-story"
      },
      "outputs": [],
      "source": [
        "#Reshape the features to (n x im_size x im_size x 3)\n",
        "import numpy as np\n",
        "X_train = np.array(X_train).reshape(-1, im_size, im_size,3)\n",
        "X_test = np.array(X_test).reshape(-1, im_size, im_size,3)"
      ],
      "id": "north-story"
    },
    {
      "cell_type": "markdown",
      "metadata": {
        "id": "decimal-region"
      },
      "source": [
        "# Code"
      ],
      "id": "decimal-region"
    },
    {
      "cell_type": "code",
      "execution_count": 46,
      "metadata": {
        "colab": {
          "base_uri": "https://localhost:8080/"
        },
        "id": "01691d72",
        "outputId": "457f72e8-b6f3-41b0-a75e-1cde4033b5bb"
      },
      "outputs": [
        {
          "output_type": "stream",
          "name": "stdout",
          "text": [
            "The shape of the training features is: (3000, 32, 32, 3)\n",
            "The shape of the testing features is: (400, 32, 32, 3)\n"
          ]
        }
      ],
      "source": [
        "print(\"The shape of the training features is:\",X_train[:3000].shape)\n",
        "print(\"The shape of the testing features is:\",X_test[:400].shape)"
      ],
      "id": "01691d72"
    },
    {
      "cell_type": "code",
      "execution_count": 47,
      "metadata": {
        "colab": {
          "base_uri": "https://localhost:8080/"
        },
        "id": "jtMIje--0M2R",
        "outputId": "ba9ad793-f078-4668-818c-d5f27797260c"
      },
      "outputs": [
        {
          "output_type": "execute_result",
          "data": {
            "text/plain": [
              "10"
            ]
          },
          "metadata": {},
          "execution_count": 47
        }
      ],
      "source": [
        "label_data = np.unique(y_train)\n",
        "len(label_data)"
      ],
      "id": "jtMIje--0M2R"
    },
    {
      "cell_type": "code",
      "execution_count": 48,
      "metadata": {
        "id": "divided-serial"
      },
      "outputs": [],
      "source": [
        "#Impor the libraries for the NN\n",
        "from keras.models import Sequential\n",
        "from keras.layers import Dense\n",
        "from keras.layers import Dropout\n",
        "from keras.layers import Flatten\n",
        "from keras.constraints import maxnorm\n",
        "from keras.optimizers import SGD,Adam\n",
        "from keras.layers.convolutional import Conv2D\n",
        "from keras.layers.convolutional import MaxPooling2D, AveragePooling2D\n",
        "from keras.utils import np_utils"
      ],
      "id": "divided-serial"
    },
    {
      "cell_type": "code",
      "execution_count": 50,
      "metadata": {
        "id": "ultimate-duncan"
      },
      "outputs": [],
      "source": [
        "#Build the NN Architechture\n",
        "im_size = 32\n",
        "model=Sequential()\n",
        "model.add(Conv2D(64,(3,3), strides=1, input_shape=[im_size, im_size, 3], activation='relu'))\n",
        "model.add(MaxPooling2D(pool_size=(3,3)))\n",
        "# model.add(AveragePooling2D(pool_size=(3,3)))\n",
        "\n",
        "\n",
        "model.add(Conv2D(32,(3,3), activation='relu'))\n",
        "#model.add(MaxPooling2D(pool_size=(3,3)))\n",
        "model.add(AveragePooling2D(pool_size=(3,3)))\n",
        "\n",
        "\n",
        "# model.add(Conv2D(32,(3,3), activation='relu'))\n",
        "# model.add(MaxPooling2D(pool_size=(3,3)))\n",
        "# model.add(AveragePooling2D(pool_size=(3,3)))\n",
        "\n",
        "\n",
        "#Flat the extracted data\n",
        "model.add(Flatten())\n",
        "\n",
        "#Fully Connected NN\n",
        "model.add(Dense(200,activation='relu'))\n",
        "# model.add(Dropout(0.1))\n",
        "\n",
        "model.add(Dense(200,activation='relu'))\n",
        "\n",
        "model.add(Dense(100,activation='relu'))\n",
        "model.add(Dense(50,activation='relu'))\n",
        "model.add(Dense(len(label_data), activation='softmax'))"
      ],
      "id": "ultimate-duncan"
    },
    {
      "cell_type": "code",
      "execution_count": 51,
      "metadata": {
        "id": "active-treasurer"
      },
      "outputs": [],
      "source": [
        "model.compile(optimizer='Adam', loss='sparse_categorical_crossentropy', metrics=['accuracy'])"
      ],
      "id": "active-treasurer"
    },
    {
      "cell_type": "code",
      "execution_count": 52,
      "metadata": {
        "colab": {
          "base_uri": "https://localhost:8080/"
        },
        "id": "piano-symposium",
        "outputId": "215f5012-4262-463d-eb94-be90782d7c2f"
      },
      "outputs": [
        {
          "output_type": "stream",
          "name": "stdout",
          "text": [
            "Model: \"sequential_3\"\n",
            "_________________________________________________________________\n",
            " Layer (type)                Output Shape              Param #   \n",
            "=================================================================\n",
            " conv2d_6 (Conv2D)           (None, 30, 30, 64)        1792      \n",
            "                                                                 \n",
            " max_pooling2d_3 (MaxPooling  (None, 10, 10, 64)       0         \n",
            " 2D)                                                             \n",
            "                                                                 \n",
            " conv2d_7 (Conv2D)           (None, 8, 8, 32)          18464     \n",
            "                                                                 \n",
            " average_pooling2d_3 (Averag  (None, 2, 2, 32)         0         \n",
            " ePooling2D)                                                     \n",
            "                                                                 \n",
            " flatten_3 (Flatten)         (None, 128)               0         \n",
            "                                                                 \n",
            " dense_15 (Dense)            (None, 200)               25800     \n",
            "                                                                 \n",
            " dense_16 (Dense)            (None, 200)               40200     \n",
            "                                                                 \n",
            " dense_17 (Dense)            (None, 100)               20100     \n",
            "                                                                 \n",
            " dense_18 (Dense)            (None, 50)                5050      \n",
            "                                                                 \n",
            " dense_19 (Dense)            (None, 10)                510       \n",
            "                                                                 \n",
            "=================================================================\n",
            "Total params: 111,916\n",
            "Trainable params: 111,916\n",
            "Non-trainable params: 0\n",
            "_________________________________________________________________\n"
          ]
        }
      ],
      "source": [
        "model.summary()"
      ],
      "id": "piano-symposium"
    },
    {
      "cell_type": "code",
      "execution_count": 53,
      "metadata": {
        "id": "controlled-honey"
      },
      "outputs": [],
      "source": [
        "#Prepare the training data\n",
        "X_train = np.asarray(X_train).astype('float32').reshape((-1,im_size,im_size,3))\n",
        "y_train = np.asarray(y_train).astype('float32').reshape((-1,1))\n",
        "\n",
        "indices = np.random.permutation(X_train.shape[0])\n",
        "# Shuffle both arrays using the indices\n",
        "X_train = X_train[indices]\n",
        "y_train = y_train[indices]\n",
        "\n",
        "indices1 = np.random.permutation(X_test.shape[0])\n",
        "# Shuffle both arrays using the indices\n",
        "X_test = X_test[indices1]\n",
        "y_test = y_test[indices1]\n",
        "\n",
        "\n",
        "\n",
        "#Prepare the testing data\n",
        "X_test = np.asarray(X_test).astype('float32').reshape((-1,im_size,im_size,3))\n",
        "y_test = np.asarray(y_test).astype('float32').reshape((-1,1))"
      ],
      "id": "controlled-honey"
    },
    {
      "cell_type": "code",
      "execution_count": 56,
      "metadata": {
        "colab": {
          "base_uri": "https://localhost:8080/"
        },
        "id": "behind-jordan",
        "outputId": "35a7df77-aac0-4e76-ca1d-47eb4716cb54"
      },
      "outputs": [
        {
          "output_type": "stream",
          "name": "stdout",
          "text": [
            "Drive already mounted at /content/drive; to attempt to forcibly remount, call drive.mount(\"/content/drive\", force_remount=True).\n",
            "Epoch 1/10\n",
            "29/29 [==============================] - 2s 56ms/step - loss: 0.1148 - accuracy: 0.9667 - val_loss: 4.7366 - val_accuracy: 0.3700\n",
            "Epoch 2/10\n",
            "29/29 [==============================] - 1s 49ms/step - loss: 0.0358 - accuracy: 0.9911 - val_loss: 4.9139 - val_accuracy: 0.3833\n",
            "Epoch 3/10\n",
            "29/29 [==============================] - 2s 75ms/step - loss: 0.0184 - accuracy: 0.9978 - val_loss: 5.1859 - val_accuracy: 0.3717\n",
            "Epoch 4/10\n",
            "29/29 [==============================] - 2s 85ms/step - loss: 0.0065 - accuracy: 1.0000 - val_loss: 5.4165 - val_accuracy: 0.3783\n",
            "Epoch 5/10\n",
            "29/29 [==============================] - 2s 63ms/step - loss: 0.0037 - accuracy: 1.0000 - val_loss: 5.4270 - val_accuracy: 0.3633\n",
            "Epoch 6/10\n",
            "29/29 [==============================] - 1s 48ms/step - loss: 0.0049 - accuracy: 0.9978 - val_loss: 5.6899 - val_accuracy: 0.3633\n",
            "Epoch 7/10\n",
            "29/29 [==============================] - 1s 51ms/step - loss: 0.0279 - accuracy: 0.9944 - val_loss: 5.6141 - val_accuracy: 0.3700\n",
            "Epoch 8/10\n",
            "29/29 [==============================] - 1s 51ms/step - loss: 0.0059 - accuracy: 1.0000 - val_loss: 5.5423 - val_accuracy: 0.3700\n",
            "Epoch 9/10\n",
            "29/29 [==============================] - 1s 51ms/step - loss: 0.0017 - accuracy: 1.0000 - val_loss: 5.6624 - val_accuracy: 0.3650\n",
            "Epoch 10/10\n",
            "29/29 [==============================] - 1s 48ms/step - loss: 0.0012 - accuracy: 1.0000 - val_loss: 5.7446 - val_accuracy: 0.3617\n"
          ]
        }
      ],
      "source": [
        "from google.colab import drive\n",
        "\n",
        "# Mount your Google Drive\n",
        "drive.mount('/content/drive')\n",
        "\n",
        "file_path= \"/content/drive/MyDrive/Colab Notebooks/Projects/001_Image_Classification/model3.h5\"\n",
        "model_checkpoint_callback = tf.keras.callbacks.ModelCheckpoint(filepath=file_path,\n",
        "                                                               monitor='val_accuracy',\n",
        "                                                               save_best_only=True)\n",
        "\n",
        "\n",
        "history = model.fit(X_train[:1500], y_train[:1500], epochs = 10, callbacks = [model_checkpoint_callback], verbose = 1, validation_split = 0.4)\n",
        "# history = model.fit(train_generator, epochs=25,validation_data = validation_generator, verbose = 1)\n"
      ],
      "id": "behind-jordan"
    },
    {
      "cell_type": "code",
      "execution_count": 57,
      "metadata": {
        "colab": {
          "base_uri": "https://localhost:8080/",
          "height": 469
        },
        "id": "cd5e0813",
        "outputId": "47dbdd40-cde5-434b-9378-2d04e49b3118"
      },
      "outputs": [
        {
          "output_type": "display_data",
          "data": {
            "text/plain": [
              "<Figure size 640x480 with 1 Axes>"
            ],
            "image/png": "[encoded data removed]"
          },
          "metadata": {}
        },
        {
          "output_type": "display_data",
          "data": {
            "text/plain": [
              "<Figure size 640x480 with 0 Axes>"
            ]
          },
          "metadata": {}
        }
      ],
      "source": [
        "import matplotlib.pyplot as plt\n",
        "\n",
        "# Plot the results\n",
        "acc = history.history['accuracy']\n",
        "val_acc = history.history['val_accuracy']\n",
        "loss = history.history['loss']\n",
        "val_loss = history.history['val_loss']\n",
        "\n",
        "epochs = range(len(acc))\n",
        "\n",
        "plt.plot(epochs, acc, 'r', label='Training accuracy')\n",
        "plt.plot(epochs, val_acc, 'b', label='Validation accuracy')\n",
        "plt.title('Training and validation accuracy')\n",
        "plt.legend(loc=0)\n",
        "plt.figure()\n",
        "\n",
        "plt.show()"
      ],
      "id": "cd5e0813"
    },
    {
      "cell_type": "code",
      "execution_count": 58,
      "metadata": {
        "colab": {
          "base_uri": "https://localhost:8080/"
        },
        "id": "sufficient-introduction",
        "outputId": "e5b01e6f-eea5-4d53-87a3-5c69aabc8dca"
      },
      "outputs": [
        {
          "output_type": "stream",
          "name": "stdout",
          "text": [
            "Drive already mounted at /content/drive; to attempt to forcibly remount, call drive.mount(\"/content/drive\", force_remount=True).\n",
            "/content/drive/MyDrive/Colab Notebooks/Projects/001_Image Classification\n",
            "['Data', '.ipynb_checkpoints', 'Database+', 'images', 'Image_classification_Traffic_signs_V5.py', 'requirements.txt', 'Image_classification_Traffic_signs_V5.ipynb', 'CNN_CIFAR10_Local.ipynb', 'model3.h5', 'CNN CIFAR10 - COLAB.ipynb']\n",
            "10/10 [==============================] - 0s 13ms/step - loss: 4.6242 - accuracy: 0.3500\n",
            "34.99999940395355\n"
          ]
        }
      ],
      "source": [
        "from keras.models import load_model\n",
        "from google.colab import drive\n",
        "\n",
        "# Mount your Google Drive\n",
        "drive.mount('/content/drive')\n",
        "\n",
        "# Navigate to the Drive directory where the model is located\n",
        "%cd /content/drive/MyDrive/Colab Notebooks/Projects/001_Image Classification\n",
        "\n",
        "# List files in the current directory\n",
        "file_list = os.listdir('.')\n",
        "print(file_list)\n",
        "\n",
        "# Load the model\n",
        "model = load_model('/content/drive/MyDrive/Colab Notebooks/Projects/001_Image_Classification/model3.h5')\n",
        "\n",
        "_,acc=model.evaluate(X_test[:300],y_test[:300])\n",
        "print(acc*100)"
      ],
      "id": "sufficient-introduction"
    },
    {
      "cell_type": "code",
      "source": [
        "im_size = 32\n",
        "\n",
        "def image_display(full_path = \"path\"):\n",
        "    image = Image.open(full_path)\n",
        "    image.thumbnail((100, 100))  # Adjust the size of the thumbnail\n",
        "    plt.imshow(image)\n",
        "\n",
        "def image_processing(full_path = \"path\"):\n",
        "    image_display(full_path = full_path)\n",
        "    im = cv2.imread(full_path)\n",
        "    im = cv2.resize(im,(im_size, im_size))\n",
        "    im = im/255.0\n",
        "\n",
        "    return im\n",
        "\n",
        "def model_pred(im_array):\n",
        "\n",
        "    im_array = np.array(im_array).reshape(-1, im_size, im_size,3)\n",
        "\n",
        "    pred=model.predict(im_array)\n",
        "    pred = np.array(pred)\n",
        "    pred = pred.reshape(-1,)\n",
        "    idx = np.argmax(pred)\n",
        "    print(\"\\n-----------------------------------------------------\\n\")\n",
        "    print(\"The index of the predicted class:\",idx)\n",
        "    class_ = label_data[idx]\n",
        "\n",
        "    #The probabilty of other classes\n",
        "    print(\"Predicted class: \",class_)\n",
        "\n",
        "    # Calculate the sum of the values\n",
        "    total = np.sum(pred)\n",
        "    # Convert the values to percentages\n",
        "    pred = (pred / total) * 100\n",
        "    pred = pred.astype(\"int32\")\n",
        "    print(\"Probability of other classes: \", pred)\n",
        "    return class_"
      ],
      "metadata": {
        "id": "VZcrRmIMJ305"
      },
      "id": "VZcrRmIMJ305",
      "execution_count": 43,
      "outputs": []
    },
    {
      "cell_type": "code",
      "source": [
        "test = image_processing(full_path = '/content/drive/MyDrive/0123.jpg')\n",
        "model_pred(test)"
      ],
      "metadata": {
        "colab": {
          "base_uri": "https://localhost:8080/",
          "height": 569
        },
        "id": "dyRjk2quJ35l",
        "outputId": "c9a81b05-a1da-4206-94c8-38f6ea4d728a"
      },
      "id": "dyRjk2quJ35l",
      "execution_count": 44,
      "outputs": [
        {
          "output_type": "stream",
          "name": "stdout",
          "text": [
            "1/1 [==============================] - 0s 27ms/step\n",
            "\n",
            "-----------------------------------------------------\n",
            "\n",
            "The index of the predicted class: 6\n",
            "Predicted class:  6\n",
            "Probability of other classes:  [ 7  8 11 11 12  9 13  9  7  7]\n"
          ]
        },
        {
          "output_type": "execute_result",
          "data": {
            "text/plain": [
              "6"
            ]
          },
          "metadata": {},
          "execution_count": 44
        },
        {
          "output_type": "display_data",
          "data": {
            "text/plain": [
              "<Figure size 640x480 with 1 Axes>"
            ],
            "image/png": "[encoded data removed]"
          },
          "metadata": {}
        }
      ]
    },
    {
      "cell_type": "code",
      "execution_count": null,
      "metadata": {
        "colab": {
          "base_uri": "https://localhost:8080/"
        },
        "id": "cafd7fc0",
        "outputId": "c6758e9f-8d83-408a-c6c1-5a946efe6152"
      },
      "outputs": [
        {
          "name": "stdout",
          "output_type": "stream",
          "text": [
            "Drive already mounted at /content/drive; to attempt to forcibly remount, call drive.mount(\"/content/drive\", force_remount=True).\n",
            "/content/drive/MyDrive/Colab Notebooks/Projects/001_Image Classification\n",
            "['images_classification_V4_Traffic signs_modify.ipynb', 'images_classification-checkpoint.ipynb', 'images_classification_CIFAR.ipynb', 'images_classification_V4_Traffic signs.ipynb', 'model3.h5', 'Data', '.ipynb_checkpoints', 'Database+', 'images']\n"
          ]
        }
      ],
      "source": [
        "from google.colab import drive\n",
        "import os\n",
        "import tensorflow as tf\n",
        "\n",
        "# Mount your Google Drive\n",
        "drive.mount('/content/drive')\n",
        "\n",
        "# Navigate to the Drive directory where the model is located\n",
        "%cd /content/drive/MyDrive/Colab Notebooks/Projects/001_Image Classification\n",
        "# Replace 'path/to/model/directory' with the actual path to the directory where your model file is stored\n",
        "\n",
        "# List files in the current directory\n",
        "file_list = os.listdir('.')\n",
        "print(file_list)\n",
        "\n",
        "# Specify the path of the model file\n",
        "#model_path = 'model.h5'  # Replace 'model.h5' with the actual filename\n",
        "\n",
        "# Load the model\n",
        "model = load_model('/content/drive/MyDrive/Colab Notebooks/Projects/001_Image_Classification/model3.h5')\n",
        "\n",
        "# Use the loaded model for inference or other tasks\n",
        "# ...\n"
      ],
      "id": "cafd7fc0"
    },
    {
      "cell_type": "code",
      "source": [],
      "metadata": {
        "id": "w8IAW0WnJ38-"
      },
      "id": "w8IAW0WnJ38-",
      "execution_count": null,
      "outputs": []
    },
    {
      "cell_type": "code",
      "source": [],
      "metadata": {
        "id": "0nBvv1E4J4AU"
      },
      "id": "0nBvv1E4J4AU",
      "execution_count": null,
      "outputs": []
    },
    {
      "cell_type": "code",
      "source": [],
      "metadata": {
        "id": "kT1fROcrJ4DS"
      },
      "id": "kT1fROcrJ4DS",
      "execution_count": null,
      "outputs": []
    },
    {
      "cell_type": "code",
      "source": [],
      "metadata": {
        "id": "WBKf29ASJ4GI"
      },
      "id": "WBKf29ASJ4GI",
      "execution_count": null,
      "outputs": []
    },
    {
      "cell_type": "code",
      "execution_count": null,
      "metadata": {
        "id": "b1a439c8"
      },
      "outputs": [],
      "source": [],
      "id": "b1a439c8"
    },
    {
      "cell_type": "code",
      "execution_count": null,
      "metadata": {
        "id": "7c21985d"
      },
      "outputs": [],
      "source": [
        "import os\n",
        "from tkinter import Tk\n",
        "from tkinter.filedialog import askopenfilename\n",
        "from PIL import Image\n",
        "import cv2\n",
        "import numpy as np\n",
        "import pandas as pd\n",
        "from keras.models import load_model\n",
        "\n",
        "im_size = 32\n",
        "\n",
        "\n",
        "def image_display(full_path = \"path\"):\n",
        "    image = Image.open(full_path)\n",
        "    image.thumbnail((32, 32))  # Adjust the size of the thumbnail\n",
        "    display(image)\n",
        "def image_processing(full_path = \"path\"):\n",
        "    image_display(full_path = full_path)\n",
        "    im = cv2.imread(full_path)\n",
        "    im = cv2.resize(im,(im_size, im_size))\n",
        "    im = im/255.0\n",
        "\n",
        "    return im\n",
        "\n",
        "def model_pred(im_array):\n",
        "\n",
        "    im_array = np.array(im_array).reshape(-1, im_size, im_size,3)\n",
        "\n",
        "    pred=model.predict(im_array)\n",
        "    #print(pred)\n",
        "    pred = np.array(pred)\n",
        "    pred = pred.reshape(-1,)\n",
        "    idx = np.argmax(pred)\n",
        "    print(\"\\n-----------------------------------------------------\\n\")\n",
        "    print(\"The index of the predicted class:\",idx)\n",
        "    class_ = label_data[idx]\n",
        "\n",
        "    #The probabilty of other classes\n",
        "    print(\"Predicted class: \",class_)\n",
        "\n",
        "    # Calculate the sum of the values\n",
        "    total = np.sum(pred)\n",
        "    # Convert the values to percentages\n",
        "    pred = (pred / total) * 100\n",
        "    pred = pred.astype(\"int32\")\n",
        "    print(\"Probability of other classes: \", pred)\n",
        "\n",
        "    display_data = pd.DataFrame([pred])\n",
        "    display_data.columns = label_data\n",
        "\n",
        "    display(display_data)\n",
        "\n",
        "    return class_\n",
        "\n",
        "\n",
        "# label_data = ['Left', 'Pedestrian', 'Right', 'Roundabout', 'Speed 100', 'Speed 120', 'Speed 60', 'Speed 80', 'Stop', 'Traffic light']\n",
        "# im_size =100"
      ],
      "id": "7c21985d"
    },
    {
      "cell_type": "code",
      "execution_count": null,
      "metadata": {
        "colab": {
          "background_save": true,
          "base_uri": "https://localhost:8080/",
          "height": 800
        },
        "id": "_EESBzqcG6S6",
        "outputId": "8cfeb204-818f-42e1-d9ad-5d770a2174d4"
      },
      "outputs": [
        {
          "name": "stdout",
          "output_type": "stream",
          "text": [
            "Drive already mounted at /content/drive; to attempt to forcibly remount, call drive.mount(\"/content/drive\", force_remount=True).\n",
            "Files in Google Drive:\n",
            "[' 0018.jpg', ' 0123.jpg', ' a-all.arff.gsheet', \"'Blank Quiz.gform'\", \"'Colab Notebooks'\", \"'Coursera Google.gsheet'\", ' CustomerSurvey.gsheet', ' CV_ms.pdf', ' Documents', ' dsd.csv', \"'Dynamic Dataset.gsheet'\", \"'Edutech days'\", ' HistoricalSales.gsheet', \"'June 2014 Invoices.gsheet'\", \"'Kitty Survey Feedback.gsheet'\", ' MOE', \"'Movie Data Starter Project.gsheet'\", ' Photos', \"'Retail Sales Data.gsheet'\", ' Rjt0Mo9mQPq7dDKPZvD6Hg_e0ce4d25e0e84304b35c917678255af1_Monthly-Sales---Functions-101.xlsx', \"'Sample Transaction Table.gsheet'\", \"'Spreadsheet Errors and Fixes Demo Sheets.gsheet'\", \"'University courses'\", \"'Untitled spreadsheet.gsheet'\", \"'wi3xBG41QGat8QRuNeBmXA_e59e3cf977ff49f1bb217abd8bb645f1_Population-Latin-and-Caribbean-Countries-2010-2019 (1).gsheet'\", ' wi3xBG41QGat8QRuNeBmXA_e59e3cf977ff49f1bb217abd8bb645f1_Population-Latin-and-Caribbean-Countries-2010-2019.gsheet', ' wi3xBG41QGat8QRuNeBmXA_e59e3cf977ff49f1bb217abd8bb645f1_Population-Latin-and-Caribbean-Countries-2010-2019.xlsx', ' تفسير_الجلالين_الميسر.pdf']\n",
            "Select an image file from Google Drive:\n"
          ]
        },
        {
          "data": {
            "text/html": [
              "\n",
              "     <input type=\"file\" id=\"files-bbfb8060-d136-4fde-982f-3946e284e69e\" name=\"files[]\" multiple disabled\n",
              "        style=\"border:none\" />\n",
              "     <output id=\"result-bbfb8060-d136-4fde-982f-3946e284e69e\">\n",
              "      Upload widget is only available when the cell has been executed in the\n",
              "      current browser session. Please rerun this cell to enable.\n",
              "      </output>\n",
              "      <script>// Copyright 2017 Google LLC\n",
              "//\n",
              "// Licensed under the Apache License, Version 2.0 (the \"License\");\n",
              "// you may not use this file except in compliance with the License.\n",
              "// You may obtain a copy of the License at\n",
              "//\n",
              "//      http://www.apache.org/licenses/LICENSE-2.0\n",
              "//\n",
              "// Unless required by applicable law or agreed to in writing, software\n",
              "// distributed under the License is distributed on an \"AS IS\" BASIS,\n",
              "// WITHOUT WARRANTIES OR CONDITIONS OF ANY KIND, either express or implied.\n",
              "// See the License for the specific language governing permissions and\n",
              "// limitations under the License.\n",
              "\n",
              "/**\n",
              " * @fileoverview Helpers for google.colab Python module.\n",
              " */\n",
              "(function(scope) {\n",
              "function span(text, styleAttributes = {}) {\n",
              "  const element = document.createElement('span');\n",
              "  element.textContent = text;\n",
              "  for (const key of Object.keys(styleAttributes)) {\n",
              "    element.style[key] = styleAttributes[key];\n",
              "  }\n",
              "  return element;\n",
              "}\n",
              "\n",
              "// Max number of bytes which will be uploaded at a time.\n",
              "const MAX_PAYLOAD_SIZE = 100 * 1024;\n",
              "\n",
              "function _uploadFiles(inputId, outputId) {\n",
              "  const steps = uploadFilesStep(inputId, outputId);\n",
              "  const outputElement = document.getElementById(outputId);\n",
              "  // Cache steps on the outputElement to make it available for the next call\n",
              "  // to uploadFilesContinue from Python.\n",
              "  outputElement.steps = steps;\n",
              "\n",
              "  return _uploadFilesContinue(outputId);\n",
              "}\n",
              "\n",
              "// This is roughly an async generator (not supported in the browser yet),\n",
              "// where there are multiple asynchronous steps and the Python side is going\n",
              "// to poll for completion of each step.\n",
              "// This uses a Promise to block the python side on completion of each step,\n",
              "// then passes the result of the previous step as the input to the next step.\n",
              "function _uploadFilesContinue(outputId) {\n",
              "  const outputElement = document.getElementById(outputId);\n",
              "  const steps = outputElement.steps;\n",
              "\n",
              "  const next = steps.next(outputElement.lastPromiseValue);\n",
              "  return Promise.resolve(next.value.promise).then((value) => {\n",
              "    // Cache the last promise value to make it available to the next\n",
              "    // step of the generator.\n",
              "    outputElement.lastPromiseValue = value;\n",
              "    return next.value.response;\n",
              "  });\n",
              "}\n",
              "\n",
              "/**\n",
              " * Generator function which is called between each async step of the upload\n",
              " * process.\n",
              " * @param {string} inputId Element ID of the input file picker element.\n",
              " * @param {string} outputId Element ID of the output display.\n",
              " * @return {!Iterable<!Object>} Iterable of next steps.\n",
              " */\n",
              "function* uploadFilesStep(inputId, outputId) {\n",
              "  const inputElement = document.getElementById(inputId);\n",
              "  inputElement.disabled = false;\n",
              "\n",
              "  const outputElement = document.getElementById(outputId);\n",
              "  outputElement.innerHTML = '';\n",
              "\n",
              "  const pickedPromise = new Promise((resolve) => {\n",
              "    inputElement.addEventListener('change', (e) => {\n",
              "      resolve(e.target.files);\n",
              "    });\n",
              "  });\n",
              "\n",
              "  const cancel = document.createElement('button');\n",
              "  inputElement.parentElement.appendChild(cancel);\n",
              "  cancel.textContent = 'Cancel upload';\n",
              "  const cancelPromise = new Promise((resolve) => {\n",
              "    cancel.onclick = () => {\n",
              "      resolve(null);\n",
              "    };\n",
              "  });\n",
              "\n",
              "  // Wait for the user to pick the files.\n",
              "  const files = yield {\n",
              "    promise: Promise.race([pickedPromise, cancelPromise]),\n",
              "    response: {\n",
              "      action: 'starting',\n",
              "    }\n",
              "  };\n",
              "\n",
              "  cancel.remove();\n",
              "\n",
              "  // Disable the input element since further picks are not allowed.\n",
              "  inputElement.disabled = true;\n",
              "\n",
              "  if (!files) {\n",
              "    return {\n",
              "      response: {\n",
              "        action: 'complete',\n",
              "      }\n",
              "    };\n",
              "  }\n",
              "\n",
              "  for (const file of files) {\n",
              "    const li = document.createElement('li');\n",
              "    li.append(span(file.name, {fontWeight: 'bold'}));\n",
              "    li.append(span(\n",
              "        `(${file.type || 'n/a'}) - ${file.size} bytes, ` +\n",
              "        `last modified: ${\n",
              "            file.lastModifiedDate ? file.lastModifiedDate.toLocaleDateString() :\n",
              "                                    'n/a'} - `));\n",
              "    const percent = span('0% done');\n",
              "    li.appendChild(percent);\n",
              "\n",
              "    outputElement.appendChild(li);\n",
              "\n",
              "    const fileDataPromise = new Promise((resolve) => {\n",
              "      const reader = new FileReader();\n",
              "      reader.onload = (e) => {\n",
              "        resolve(e.target.result);\n",
              "      };\n",
              "      reader.readAsArrayBuffer(file);\n",
              "    });\n",
              "    // Wait for the data to be ready.\n",
              "    let fileData = yield {\n",
              "      promise: fileDataPromise,\n",
              "      response: {\n",
              "        action: 'continue',\n",
              "      }\n",
              "    };\n",
              "\n",
              "    // Use a chunked sending to avoid message size limits. See b/62115660.\n",
              "    let position = 0;\n",
              "    do {\n",
              "      const length = Math.min(fileData.byteLength - position, MAX_PAYLOAD_SIZE);\n",
              "      const chunk = new Uint8Array(fileData, position, length);\n",
              "      position += length;\n",
              "\n",
              "      const base64 = btoa(String.fromCharCode.apply(null, chunk));\n",
              "      yield {\n",
              "        response: {\n",
              "          action: 'append',\n",
              "          file: file.name,\n",
              "          data: base64,\n",
              "        },\n",
              "      };\n",
              "\n",
              "      let percentDone = fileData.byteLength === 0 ?\n",
              "          100 :\n",
              "          Math.round((position / fileData.byteLength) * 100);\n",
              "      percent.textContent = `${percentDone}% done`;\n",
              "\n",
              "    } while (position < fileData.byteLength);\n",
              "  }\n",
              "\n",
              "  // All done.\n",
              "  yield {\n",
              "    response: {\n",
              "      action: 'complete',\n",
              "    }\n",
              "  };\n",
              "}\n",
              "\n",
              "scope.google = scope.google || {};\n",
              "scope.google.colab = scope.google.colab || {};\n",
              "scope.google.colab._files = {\n",
              "  _uploadFiles,\n",
              "  _uploadFilesContinue,\n",
              "};\n",
              "})(self);\n",
              "</script> "
            ],
            "text/plain": [
              "<IPython.core.display.HTML object>"
            ]
          },
          "metadata": {},
          "output_type": "display_data"
        }
      ],
      "source": [
        "from google.colab import drive\n",
        "from google.colab import files\n",
        "from PIL import Image\n",
        "\n",
        "# Mount your Google Drive\n",
        "drive.mount('/content/drive')\n",
        "\n",
        "# List files in the Drive directory\n",
        "file_list = !ls '/content/drive/MyDrive'\n",
        "print(\"Files in Google Drive:\")\n",
        "print(file_list)\n",
        "\n",
        "# Prompt the user to select an image file\n",
        "print(\"Select an image file from Google Drive:\")\n",
        "uploaded = files.upload()\n",
        "\n",
        "# Extract the first uploaded file\n",
        "image_path = list(uploaded.keys())[0]\n",
        "\n",
        "# Process the image\n",
        "image_array = image_processing(image_path)\n",
        "\n",
        "# Use the image array for model prediction\n",
        "prediction = model_pred(image_array)\n"
      ],
      "id": "_EESBzqcG6S6"
    },
    {
      "cell_type": "code",
      "execution_count": null,
      "metadata": {
        "id": "7499f241"
      },
      "outputs": [],
      "source": [
        "# Process the image\n",
        "image_array = image_processing(\"Data/Validation/Speed 80/Speed 80_1.jpg\")\n",
        "\n",
        "# Use the image array for model prediction\n",
        "prediction = model_pred(image_array)"
      ],
      "id": "7499f241"
    },
    {
      "cell_type": "code",
      "execution_count": null,
      "metadata": {
        "id": "1dfbf460"
      },
      "outputs": [],
      "source": [],
      "id": "1dfbf460"
    },
    {
      "cell_type": "code",
      "execution_count": null,
      "metadata": {
        "id": "420a0252"
      },
      "outputs": [],
      "source": [],
      "id": "420a0252"
    },
    {
      "cell_type": "code",
      "execution_count": null,
      "metadata": {
        "id": "7af780f5"
      },
      "outputs": [],
      "source": [],
      "id": "7af780f5"
    },
    {
      "cell_type": "code",
      "execution_count": null,
      "metadata": {
        "id": "0fc39e46"
      },
      "outputs": [],
      "source": [],
      "id": "0fc39e46"
    },
    {
      "cell_type": "code",
      "execution_count": null,
      "metadata": {
        "id": "0bd2dba6"
      },
      "outputs": [],
      "source": [],
      "id": "0bd2dba6"
    },
    {
      "cell_type": "markdown",
      "metadata": {
        "id": "3a58c42d"
      },
      "source": [
        "![image-2.png](attachment:image-2.png)"
      ],
      "id": "3a58c42d"
    },
    {
      "cell_type": "code",
      "execution_count": null,
      "metadata": {
        "id": "9be6cf1e"
      },
      "outputs": [],
      "source": [
        "import tkinter as tk\n",
        "from tkinter import filedialog\n",
        "from PIL import Image\n",
        "import os\n",
        "from tkinter import Tk\n",
        "from tkinter.filedialog import askopenfilename\n",
        "from PIL import Image\n",
        "import cv2\n",
        "import numpy as np\n",
        "import pandas as pd\n",
        "\n",
        "from keras.models import load_model\n",
        "label_data = ['Left', 'Pedestrian', 'Right', 'Roundabout', 'Speed 100', 'Speed 120', 'Speed 60', 'Speed 80', 'Stop', 'Traffic light']\n",
        "\n",
        "model = load_model('model3.h5')\n",
        "\n",
        "import tkinter as tk\n",
        "from tkinter import filedialog\n",
        "from PIL import Image\n",
        "import numpy as np\n",
        "\n",
        "\n",
        "# Function to handle button click event\n",
        "def browse_image():\n",
        "    # Open file dialog to select an image file\n",
        "    file_path = filedialog.askopenfilename(filetypes=[(\"Image files\", \"*.jpg;*.jpeg;*.png;*.bmp\")])\n",
        "    # Check if a file was selected\n",
        "    if file_path:\n",
        "\n",
        "\n",
        "        # Process the image\n",
        "        image_array = image_processing(file_path)\n",
        "\n",
        "        # Use the image array for model prediction\n",
        "        prediction = model_pred(image_array)\n",
        "\n",
        "        # Display the prediction\n",
        "        prediction_label.configure(text=\"Prediction: \" + prediction)\n",
        "\n",
        "# Create the main window\n",
        "window = tk.Tk()\n",
        "window.title(\"Image Prediction\")\n",
        "\n",
        "# Create a button to browse for an image\n",
        "browse_button = tk.Button(window, text=\"Browse Image\", command=browse_image)\n",
        "browse_button.pack(pady=10)\n",
        "\n",
        "# Create a label for displaying the prediction\n",
        "prediction_label = tk.Label(window, text=\"Prediction: \")\n",
        "prediction_label.pack(pady=10)\n",
        "\n",
        "# Create a label for displaying the image (optional)\n",
        "# image_label = tk.Label(window)\n",
        "# image_label.pack(pady=10)\n",
        "\n",
        "# Run the main window loop\n",
        "window.mainloop()\n"
      ],
      "id": "9be6cf1e"
    },
    {
      "cell_type": "code",
      "execution_count": null,
      "metadata": {
        "id": "ba62bab2"
      },
      "outputs": [],
      "source": [],
      "id": "ba62bab2"
    },
    {
      "cell_type": "code",
      "execution_count": null,
      "metadata": {
        "id": "47a8a807"
      },
      "outputs": [],
      "source": [],
      "id": "47a8a807"
    },
    {
      "cell_type": "code",
      "execution_count": null,
      "metadata": {
        "id": "cd690df4"
      },
      "outputs": [],
      "source": [],
      "id": "cd690df4"
    },
    {
      "cell_type": "code",
      "execution_count": null,
      "metadata": {
        "id": "e42c5ee2"
      },
      "outputs": [],
      "source": [],
      "id": "e42c5ee2"
    },
    {
      "cell_type": "code",
      "execution_count": null,
      "metadata": {
        "id": "b431580b"
      },
      "outputs": [],
      "source": [],
      "id": "b431580b"
    },
    {
      "cell_type": "code",
      "execution_count": null,
      "metadata": {
        "id": "64b9274a"
      },
      "outputs": [],
      "source": [],
      "id": "64b9274a"
    },
    {
      "cell_type": "markdown",
      "metadata": {
        "id": "5aa6dd3a"
      },
      "source": [
        "# ![image.png](attachment:image.png)"
      ],
      "id": "5aa6dd3a"
    },
    {
      "cell_type": "markdown",
      "metadata": {
        "id": "24c12f50"
      },
      "source": [
        "![image.png](attachment:image.png)"
      ],
      "id": "24c12f50"
    },
    {
      "cell_type": "code",
      "execution_count": null,
      "metadata": {
        "id": "77c00000"
      },
      "outputs": [],
      "source": [],
      "id": "77c00000"
    },
    {
      "cell_type": "code",
      "execution_count": null,
      "metadata": {
        "id": "0e6df9fa"
      },
      "outputs": [],
      "source": [],
      "id": "0e6df9fa"
    },
    {
      "cell_type": "code",
      "execution_count": null,
      "metadata": {
        "id": "13b67daf"
      },
      "outputs": [],
      "source": [],
      "id": "13b67daf"
    },
    {
      "cell_type": "code",
      "execution_count": null,
      "metadata": {
        "id": "602b44e6"
      },
      "outputs": [],
      "source": [
        "import tkinter as tk\n",
        "from tkinter import filedialog\n",
        "from PIL import ImageTk, Image\n",
        "\n",
        "class ImageBrowser:\n",
        "    def __init__(self, root):\n",
        "        self.root = root\n",
        "        self.root.title(\"Image Browser\")\n",
        "        self.image_label = tk.Label(root)\n",
        "        self.image_label.pack(padx=10, pady=10)\n",
        "        self.current_image_index = 0\n",
        "        self.images = []\n",
        "\n",
        "        # Button to browse images\n",
        "        browse_button = tk.Button(root, text=\"Browse\", command=self.browse_images)\n",
        "        browse_button.pack(padx=10, pady=5)\n",
        "\n",
        "        # Button to display previous image\n",
        "        prev_button = tk.Button(root, text=\"Previous\", command=self.display_previous_image)\n",
        "        prev_button.pack(padx=10, pady=5)\n",
        "\n",
        "        # Button to display next image\n",
        "        next_button = tk.Button(root, text=\"Next\", command=self.display_next_image)\n",
        "        next_button.pack(padx=10, pady=5)\n",
        "\n",
        "    def browse_images(self):\n",
        "        filetypes = ((\"Image files\", \"*.jpg;*.jpeg;*.png;*.gif\"), (\"All files\", \"*.*\"))\n",
        "        filenames = filedialog.askopenfilenames(title=\"Select Images\", filetypes=filetypes)\n",
        "        self.images = [Image.open(filename) for filename in filenames]\n",
        "        if self.images:\n",
        "            self.display_image(0)\n",
        "\n",
        "    def display_image(self, index):\n",
        "        image = self.images[index]\n",
        "        image = image.resize((400, 400))\n",
        "        photo = ImageTk.PhotoImage(image)\n",
        "        self.image_label.configure(image=photo)\n",
        "        self.image_label.image = photo\n",
        "        self.current_image_index = index\n",
        "\n",
        "    def display_previous_image(self):\n",
        "        if self.current_image_index > 0:\n",
        "            self.display_image(self.current_image_index - 1)\n",
        "\n",
        "    def display_next_image(self):\n",
        "        if self.current_image_index < len(self.images) - 1:\n",
        "            self.display_image(self.current_image_index + 1)\n",
        "\n",
        "# Create the Tkinter root window\n",
        "root = tk.Tk()\n",
        "\n",
        "# Create an instance of the ImageBrowser class\n",
        "image_browser = ImageBrowser(root)\n",
        "\n",
        "# Start the Tkinter event loop\n",
        "root.mainloop()\n"
      ],
      "id": "602b44e6"
    },
    {
      "cell_type": "code",
      "execution_count": null,
      "metadata": {
        "id": "5975b788"
      },
      "outputs": [],
      "source": [
        "# Create an instance of Tkinter\n",
        "root = Tk()\n",
        "root.withdraw()  # Hide the root window\n",
        "\n",
        "# Open the file dialog box\n",
        "file_path = askopenfilename(filetypes=[(\"Image files\", \"*.jpg;*.jpeg;*.png;*.gif\")])\n",
        "full_path = os.path.abspath(file_path)\n",
        "\n",
        "im = image_processing(full_path = full_path)\n",
        "model_pred(im)\n",
        "\n",
        "\n",
        "\n",
        "#print(pd.DataFrame(np.append(label_data,proba,axis=0)))\n",
        "#['Left', 'Pedestrian', 'Right', 'Roundabout', 'Speed 100', 'Speed 120', 'Speed 60', 'Speed 80', 'Stop', 'Traffic light']"
      ],
      "id": "5975b788"
    },
    {
      "cell_type": "code",
      "execution_count": null,
      "metadata": {
        "id": "4cfb51c5"
      },
      "outputs": [],
      "source": [
        "import tkinter as tk\n",
        "from tkinter import filedialog\n",
        "from PIL import Image, ImageTk\n",
        "\n",
        "def browse_image():\n",
        "    file_path = filedialog.askopenfilename()\n",
        "    if file_path:\n",
        "        path_label.config(text=file_path)\n",
        "        display_image(file_path)\n",
        "    else:\n",
        "        path_label.config(text=\"No file selected\")\n",
        "        image_label.config(image='')\n",
        "\n",
        "def display_image(file_path):\n",
        "    image = Image.open(file_path)\n",
        "    image.thumbnail((400, 400))\n",
        "    photo = ImageTk.PhotoImage(image)\n",
        "    image_label.config(image=photo)\n",
        "    image_label.image = photo\n",
        "\n",
        "# Create the main window\n",
        "window = tk.Tk()\n",
        "window.title(\"Image Browser\")\n",
        "\n",
        "# Create a button to browse for an image\n",
        "browse_button = tk.Button(window, text=\"Browse\", command=browse_image)\n",
        "browse_button.pack(pady=10)\n",
        "\n",
        "# Create a label to display the selected file path\n",
        "path_label = tk.Label(window, text=\"No file selected\")\n",
        "path_label.pack()\n",
        "\n",
        "# Create a label to display the image\n",
        "image_label = tk.Label(window)\n",
        "image_label.pack()\n",
        "\n",
        "# Run the main window event loop\n",
        "window.mainloop()\n"
      ],
      "id": "4cfb51c5"
    },
    {
      "cell_type": "code",
      "execution_count": null,
      "metadata": {
        "id": "a17c562c"
      },
      "outputs": [],
      "source": [
        "import os\n",
        "from tkinter import Tk\n",
        "from tkinter.filedialog import askopenfilename\n",
        "from PIL import Image\n",
        "\n",
        "label_data = ['Left', 'Pedestrian', 'Right', 'Roundabout', 'Speed 100', 'Speed 120', 'Speed 60', 'Speed 80', 'Stop', 'Traffic light']\n",
        "im_size =100\n",
        "\n",
        "# Create an instance of Tkinter\n",
        "root = Tk()\n",
        "root.withdraw()  # Hide the root window\n",
        "\n",
        "# Open the file dialog box\n",
        "file_path = askopenfilename(filetypes=[(\"Image files\", \"*.jpg;*.jpeg;*.png;*.gif\")])\n",
        "\n",
        "# Check if a file was selected\n",
        "if file_path:\n",
        "    # Get the absolute path of the selected file\n",
        "    full_path = os.path.abspath(file_path)\n",
        "\n",
        "    # Print the selected image file path\n",
        "    print(\"Selected image:\", full_path)\n",
        "\n",
        "    # Open and display the image thumbnail\n",
        "    try:\n",
        "        image = Image.open(full_path)\n",
        "        image.thumbnail((1000, 1000))  # Adjust the size of the thumbnail\n",
        "        image.show()\n",
        "    except Exception as e:\n",
        "        print(\"Error displaying image:\", str(e))\n",
        "else:\n",
        "    print(\"No file selected.\")\n",
        "\n",
        "\n",
        "\n",
        "\n",
        "im = cv2.imread(full_path)\n",
        "im = cv2.resize(im,(im_size, im_size))\n",
        "im=im/255.0\n",
        "im = np.array(im).reshape(-1, im_size, im_size,3)\n",
        "\n",
        "pred=model.predict(im)\n",
        "#print(pred)\n",
        "pred = np.array(pred)\n",
        "pred = pred.reshape(-1,)\n",
        "idx = np.argmax(pred)\n",
        "print(\"\\n-----------------------------------------------------\\n\")\n",
        "print(\"The index of the predicted class:\",idx)\n",
        "class_ = label_data[idx]\n",
        "\n",
        "#The probabilty of other classes\n",
        "print(\"Predicted class: \",class_)\n",
        "# Calculate the sum of the values\n",
        "total = np.sum(pred)\n",
        "\n",
        "# Convert the values to percentages\n",
        "pred = (pred / total) * 100\n",
        "pred = pred.astype(\"int32\")\n",
        "print(\"Probability of other classes: \", pred)\n",
        "\n",
        "display_data = pd.DataFrame([pred])\n",
        "display_data.columns = label_data\n",
        "\n",
        "display_data\n",
        "#print(pd.DataFrame(np.append(label_data,proba,axis=0)))\n",
        "#['Left', 'Pedestrian', 'Right', 'Roundabout', 'Speed 100', 'Speed 120', 'Speed 60', 'Speed 80', 'Stop', 'Traffic light']"
      ],
      "id": "a17c562c"
    },
    {
      "cell_type": "code",
      "execution_count": null,
      "metadata": {
        "id": "2fb71d12"
      },
      "outputs": [],
      "source": [],
      "id": "2fb71d12"
    },
    {
      "cell_type": "code",
      "execution_count": null,
      "metadata": {
        "id": "1293a1c6"
      },
      "outputs": [],
      "source": [],
      "id": "1293a1c6"
    },
    {
      "cell_type": "code",
      "execution_count": null,
      "metadata": {
        "id": "26aafbac"
      },
      "outputs": [],
      "source": [],
      "id": "26aafbac"
    },
    {
      "cell_type": "code",
      "execution_count": null,
      "metadata": {
        "id": "91acec7a"
      },
      "outputs": [],
      "source": [],
      "id": "91acec7a"
    },
    {
      "cell_type": "code",
      "execution_count": null,
      "metadata": {
        "id": "a92e116f"
      },
      "outputs": [],
      "source": [],
      "id": "a92e116f"
    },
    {
      "cell_type": "code",
      "execution_count": null,
      "metadata": {
        "id": "emerging-spending"
      },
      "outputs": [],
      "source": [
        "import tkinter as tk\n",
        "from tkinter import filedialog\n",
        "from tkinter import *\n",
        "from PIL import ImageTk, Image\n",
        "import numpy as np\n",
        "import pandas as pd\n",
        "import os\n",
        "import cv2\n",
        "from keras.models import load_model\n",
        "\n",
        "\n",
        "# label_data = ['Left', 'Pedestrian', 'Right', 'Roundabout', 'Speed 100', 'Speed 120', 'Speed 60', 'Speed 80', 'Stop', 'Traffic light']\n",
        "# im_size =100\n",
        "\n",
        "#load the trained model to classify the images\n",
        "model = load_model('model3.h5')\n",
        "\n",
        "\n",
        "#initialise GUI\n",
        "top=tk.Tk()\n",
        "top.geometry('800x600')\n",
        "top.title('Image Classification')\n",
        "top.configure(background='#CDCDCD')\n",
        "label=Label(top,background='#CDCDCD', font=('arial',15,'bold'))\n",
        "sign_image = Label(top)\n",
        "\n",
        "def classify(file_path):\n",
        "    global pred\n",
        "\n",
        "    im = cv2.imread(file_path)\n",
        "    im = cv2.resize(im,(im_size, im_size))\n",
        "    #im = np.asarray(im).astype('float32').reshape((im_size,im_size,3))\n",
        "    im=im/255.0\n",
        "    im = np.array(im).reshape(-1, im_size, im_size,3)\n",
        "\n",
        "    pred=model.predict(im)\n",
        "    #print(pred)\n",
        "    pred = np.array(pred)\n",
        "    pred = pred.reshape(-1,)\n",
        "    idx = np.argmax(pred)\n",
        "    print(\"______________________________________________\\nThe index of the predicted class:\",idx)\n",
        "    class_ = label_data[idx]\n",
        "    label.configure(foreground='#011638', text=class_)\n",
        "\n",
        "\n",
        "    #The probabilty of other classes\n",
        "    print(\"Predicted image: \",class_)\n",
        "    # Calculate the sum of the values\n",
        "    total = np.sum(pred)\n",
        "\n",
        "    # Convert the values to percentages\n",
        "    pred = (pred / total) * 100\n",
        "    pred = pred.astype(\"int32\")\n",
        "    print(\"Probability of other classes: \", pred)\n",
        "\n",
        "    display_data = pd.DataFrame([pred])\n",
        "    display_data.columns = label_data\n",
        "    display(display_data)\n",
        "\n",
        "\n",
        "\n",
        "def proba_():\n",
        "    classify_b=Button(top,text=proba,\n",
        "   command=lambda: classify(file_path),padx=10,pady=5)\n",
        "    classify_b.configure(background='#364156', foreground='white',font=('arial',20,'bold'))\n",
        "    classify_b.place(relx=0.79,rely=0.46)\n",
        "\n",
        "\n",
        "\n",
        "\n",
        "def show_classify_button(file_path):\n",
        "    classify_b=Button(top,text=\"Classify Image\",\n",
        "   command=lambda: classify(file_path),padx=10,pady=5)\n",
        "    classify_b.configure(background='#364156', foreground='white',font=('arial',10,'bold'))\n",
        "    classify_b.place(relx=0.79,rely=0.46)\n",
        "\n",
        "\n",
        "\n",
        "def upload_image():\n",
        "    try:\n",
        "        file_path=filedialog.askopenfilename()\n",
        "        uploaded=Image.open(file_path)\n",
        "        uploaded.thumbnail(((top.winfo_width()/2.25),\n",
        "    (top.winfo_height()/2.25)))\n",
        "        im=ImageTk.PhotoImage(uploaded)\n",
        "        sign_image.configure(image=im)\n",
        "        sign_image.image=im\n",
        "        label.configure(text='')\n",
        "        show_classify_button(file_path)\n",
        "    except:\n",
        "        pass\n",
        "\n",
        "upload=Button(top,text=\"Choose an image\",command=upload_image,\n",
        "  padx=10,pady=5)\n",
        "\n",
        "upload.configure(background='#364156', foreground='white',\n",
        "    font=('arial',10,'bold'))\n",
        "\n",
        "upload.pack(side=BOTTOM,pady=50)\n",
        "sign_image.pack(side=BOTTOM,expand=True)\n",
        "label.pack(side=BOTTOM,expand=True)\n",
        "heading = Label(top, text=\"Image Classification\",pady=15, font=('arial',20,'bold'))\n",
        "\n",
        "heading.configure(background='#CDCDCD',foreground='#364156')\n",
        "heading.pack()\n",
        "\n",
        "\n",
        "\n",
        "top.mainloop()"
      ],
      "id": "emerging-spending"
    },
    {
      "cell_type": "code",
      "execution_count": null,
      "metadata": {
        "id": "70083e65"
      },
      "outputs": [],
      "source": [
        "#['Left', 'Pedestrian', 'Right', 'Roundabout', 'Speed 100', 'Speed 120', 'Speed 60', 'Speed 80', 'Stop', 'Traffic light']\n",
        "\n",
        "############################################\n",
        "############################################\n",
        "############################################\n",
        "############################################\n",
        "############################################"
      ],
      "id": "70083e65"
    },
    {
      "cell_type": "code",
      "execution_count": null,
      "metadata": {
        "id": "06ab3eff"
      },
      "outputs": [],
      "source": [],
      "id": "06ab3eff"
    },
    {
      "cell_type": "code",
      "execution_count": null,
      "metadata": {
        "id": "8516350c"
      },
      "outputs": [],
      "source": [],
      "id": "8516350c"
    },
    {
      "cell_type": "code",
      "execution_count": null,
      "metadata": {
        "id": "a3e82edd"
      },
      "outputs": [],
      "source": [
        "import tkinter as tk\n",
        "from tkinter import filedialog\n",
        "from tkinter import *\n",
        "from PIL import ImageTk, Image\n",
        "import numpy as np\n",
        "import cv2\n",
        "import os\n",
        "\n",
        "#load the trained model to classify the images\n",
        "im_size=100\n",
        "from keras.models import load_model\n",
        "model = load_model('model3.h5')\n",
        "\n",
        "\n",
        "#initialise GUI\n",
        "\n",
        "top=tk.Tk()\n",
        "top.geometry('800x600')\n",
        "top.title('Image Classification')\n",
        "top.configure(background='#CDCDCD')\n",
        "label=Label(top,background='#CDCDCD', font=('arial',15,'bold'))\n",
        "sign_image = Label(top)\n",
        "\n",
        "def classify(file_path):\n",
        "\n",
        "    im = cv2.imread(file_path)\n",
        "    im=cv2.resize(im,(im_size, im_size))\n",
        "    #print(im.shape)\n",
        "    im = np.asarray(im).astype('float32').reshape((im_size,im_size,3))\n",
        "\n",
        "    im=im/255.0\n",
        "    im = np.array(im).reshape(-1, im_size, im_size,3)\n",
        "    pred=model.predict(im)\n",
        "    #print(pred)\n",
        "    pred = np.array(pred)\n",
        "    pred = pred.reshape(-1,)\n",
        "    ix = np.argmax(pred)\n",
        "    print(ix)\n",
        "\n",
        "    #print(label_data)\n",
        "#     class_  = label_data.loc[ix,0]\n",
        "    class_ = label_data[ix]\n",
        "    print(class_)\n",
        "    proba = model.predict(im)\n",
        "    print(\"\\n-----------------------\\nPredicted image: \",class_)\n",
        "    print(\"Probability of other classes: \", proba)\n",
        "    label.configure(foreground='#011638', text=class_)\n",
        "\n",
        "\n",
        "\n",
        "\n",
        "\n",
        "def proba_():\n",
        "    classify_b=Button(top,text=proba,\n",
        "   command=lambda: classify(file_path),padx=10,pady=5)\n",
        "    classify_b.configure(background='#364156', foreground='white',font=('arial',20,'bold'))\n",
        "    classify_b.place(relx=0.79,rely=0.46)\n",
        "\n",
        "\n",
        "\n",
        "\n",
        "def show_classify_button(file_path):\n",
        "    classify_b=Button(top,text=\"Classify Image\",\n",
        "   command=lambda: classify(file_path),padx=10,pady=5)\n",
        "    classify_b.configure(background='#364156', foreground='white',font=('arial',10,'bold'))\n",
        "    classify_b.place(relx=0.79,rely=0.46)\n",
        "\n",
        "\n",
        "\n",
        "def upload_image():\n",
        "    try:\n",
        "        file_path=filedialog.askopenfilename()\n",
        "        uploaded=Image.open(file_path)\n",
        "        uploaded.thumbnail(((top.winfo_width()/2.25),\n",
        "    (top.winfo_height()/2.25)))\n",
        "        im=ImageTk.PhotoImage(uploaded)\n",
        "        sign_image.configure(image=im)\n",
        "        sign_image.image=im\n",
        "        label.configure(text='')\n",
        "        show_classify_button(file_path)\n",
        "    except:\n",
        "        pass\n",
        "\n",
        "upload=Button(top,text=\"Choose an image\",command=upload_image,\n",
        "  padx=10,pady=5)\n",
        "\n",
        "upload.configure(background='#364156', foreground='white',\n",
        "    font=('arial',10,'bold'))\n",
        "\n",
        "upload.pack(side=BOTTOM,pady=50)\n",
        "sign_image.pack(side=BOTTOM,expand=True)\n",
        "label.pack(side=BOTTOM,expand=True)\n",
        "heading = Label(top, text=\"Image Classification\",pady=15, font=('arial',20,'bold'))\n",
        "\n",
        "heading.configure(background='#CDCDCD',foreground='#364156')\n",
        "heading.pack()\n",
        "\n",
        "\n",
        "\n",
        "top.mainloop()"
      ],
      "id": "a3e82edd"
    },
    {
      "cell_type": "code",
      "execution_count": null,
      "metadata": {
        "id": "8d9d9246"
      },
      "outputs": [],
      "source": [
        "#Import the required libraries\n",
        "\n",
        "import keras\n",
        "import os\n",
        "import numpy as np\n",
        "import pandas as pd\n",
        "#from pathlib import Path\n",
        "import matplotlib.pyplot  as plt\n",
        "from PIL import Image\n",
        "import numpy as np\n",
        "import tensorflow as tf\n",
        "import cv2\n",
        "os.environ['KMP_DUPLICATE_LIB_OK'] = 'True'\n",
        "\n",
        "#Set the image size to reresize all the images into (im_size x im_size x 3)\n",
        "im_size = 100\n",
        "training_data = []\n",
        "\n",
        "#Get the path to the training data\n",
        "Path=os.getcwd() #Current path\n",
        "\n",
        "Path=Path+\"/Data/Training/\" #Folder of the training data\n",
        "Path=Path.replace('\\\\', '/')\n",
        "\n",
        "print (Path)\n",
        "\n",
        "Classes = next(os.walk(Path))[1] #The name of the folders\n",
        "print(f\"\\n{Classes}\") #Print the classes\n",
        "\n",
        "#Read the training data & label them based on folder name\n",
        "\n",
        "training_data = []\n",
        "label_data = []\n",
        "\n",
        "for inx,ima in enumerate(Classes):\n",
        "    files=next(os.walk(Path+ima))[2]\n",
        "\n",
        "    for file in files:\n",
        "\n",
        "        this_image = Path+ima+\"/\"+file\n",
        "\n",
        "        print(\"This image\",this_image,\"\\n\")\n",
        "        try:\n",
        "            im_array = cv2.imread(this_image)\n",
        "            im=cv2.resize(im_array,(im_size, im_size))\n",
        "            im=np.array(im)\n",
        "\n",
        "            training_data.append([im, inx])\n",
        "            label_data.append([inx,ima])\n",
        "\n",
        "        except Exception as e:\n",
        "            pass\n",
        "\n",
        "print(\"\\n\\n The Shape of the image is: \",training_data[0][0].shape)\n",
        "plt.imshow(training_data[1][0])\n",
        "plt.show()\n",
        "\n",
        "\n",
        "#Read the testing data & label them based on folder name\n",
        "\n",
        "\n",
        "Path=os.getcwd()\n",
        "Path=Path+\"/Data/Validation/\"\n",
        "Path=Path.replace('\\\\', '/')\n",
        "print (Path)\n",
        "\n",
        "testing_data = []\n",
        "label_data2 = []\n",
        "for inx,ima in enumerate(Classes):\n",
        "    files=next(os.walk(Path+ima))[2]\n",
        "\n",
        "    for file in files:\n",
        "\n",
        "        this_image = Path+ima+\"/\"+file\n",
        "\n",
        "        print(\"This image\",this_image)\n",
        "        try:\n",
        "            im_array = cv2.imread(this_image)\n",
        "            im=cv2.resize(im_array,(im_size, im_size))\n",
        "            im=np.array(im)\n",
        "\n",
        "\n",
        "            testing_data.append([im, inx])\n",
        "            label_data2.append([inx,ima])\n",
        "\n",
        "\n",
        "        except Exception as e:\n",
        "            pass\n",
        "\n",
        "\n",
        "print(\"\\n\\n The Shape of the image is: \",testing_data[0][0].shape)\n",
        "plt.imshow(testing_data[1][0])\n",
        "plt.show()\n",
        "\n",
        "\n",
        "#Get the labels names\n",
        "label_data = pd.DataFrame(label_data)\n",
        "label_data = label_data[1].unique()\n",
        "print(label_data)\n",
        "\n",
        "np.array(label_data)[3]\n",
        "#label_data.loc[2]\n",
        "\n",
        "#Shuffle The training and testing data\n",
        "\n",
        "import random\n",
        "random.shuffle(training_data)\n",
        "random.shuffle(testing_data)\n",
        "\n",
        "#Seprate the features and labels in the training data  from [Features, label] => X = features, Y = Label\n",
        "\n",
        "X = []\n",
        "Y = []\n",
        "for features,label in training_data:\n",
        "    X.append(features)\n",
        "    Y.append(label)\n",
        "print(\"Number of training images:\",len(Y),\"\\nExamples of the labels\",Y[:5])\n",
        "\n",
        "#Seprate the features and labels in the training data  from [Features, label] => X = features, Y = Label\n",
        "\n",
        "X2 = []\n",
        "Y2 = []\n",
        "for features,label in testing_data:\n",
        "    X2.append(features)\n",
        "    Y2.append(label)\n",
        "print(\"Number of testing images:\",len(Y2),\"\\nExamples of the labels\",Y2[:5])\n",
        "\n",
        "#Reshape the features to (n x im_size x im_size x 3)\n",
        "X = np.array(X).reshape(-1, im_size, im_size,3)\n",
        "\n",
        "#Normlise the images, range changed from 0-255 => 0-1\n",
        "X=X.astype('float32')\n",
        "X=X/255.0\n",
        "\n",
        "X2 = np.array(X2).reshape(-1, im_size, im_size,3)\n",
        "X2=X2.astype('float32')\n",
        "X2=X2/255.0\n",
        "\n",
        "print(\"The shape of the training features is:\",X.shape)\n",
        "print(\"The shape of the testing features is:\",X2.shape)\n",
        "\n",
        "#Show an example from the training images\n",
        "idx = 9\n",
        "ex = X[idx].copy()\n",
        "plt.imshow(ex)\n",
        "plt.show()\n",
        "\n",
        "# Split the image into its BGR channels\n",
        "blue_channel, green_channel, red_channel = cv2.split(ex)\n",
        "\n",
        "# Stack the channels into a single NumPy array\n",
        "ex = np.stack((red_channel, green_channel, blue_channel), axis=-1)\n",
        "\n",
        "\n",
        "plt.imshow(ex)\n",
        "plt.show()\n",
        "\n",
        "#Impor the libraries for the NN\n",
        "\n",
        "from keras.models import Sequential\n",
        "from keras.layers import Dense\n",
        "from keras.layers import Dropout\n",
        "from keras.layers import Flatten\n",
        "from keras.constraints import maxnorm\n",
        "from keras.optimizers import SGD,Adam\n",
        "from keras.layers.convolutional import Conv2D\n",
        "from keras.layers.convolutional import MaxPooling2D\n",
        "from keras.utils import np_utils\n",
        "\n",
        "#Build the NN Architechture\n",
        "\n",
        "model=Sequential()\n",
        "model.add(Conv2D(64,(3,3), strides=1, input_shape=[im_size, im_size, 3], activation='relu'))\n",
        "\n",
        "model.add(Conv2D(64,(3,3), activation='relu'))\n",
        "model.add(MaxPooling2D(pool_size=(3,3)))\n",
        "\n",
        "model.add(Conv2D(32,(3,3), activation='relu'))\n",
        "model.add(MaxPooling2D(pool_size=(3,3)))\n",
        "\n",
        "#Flat the extracted data\n",
        "model.add(Flatten())\n",
        "\n",
        "#Fully Connected NN\n",
        "model.add(Dense(200,activation='relu'))\n",
        "# model.add(Dropout(0.1))\n",
        "\n",
        "model.add(Dense(200,activation='relu'))\n",
        "\n",
        "model.add(Dense(100,activation='relu'))\n",
        "model.add(Dense(50,activation='relu'))\n",
        "model.add(Dense(len(label_data), activation='softmax'))\n",
        "\n",
        "model.compile(optimizer='Adam', loss='sparse_categorical_crossentropy', metrics=['accuracy'])\n",
        "model.summary()\n",
        "\n",
        "X = np.asarray(X).astype('float32').reshape((-1,im_size,im_size,3))\n",
        "Y = np.asarray(Y).astype('float32').reshape((-1,1))\n",
        "\n",
        "X2 = np.asarray(X2).astype('float32').reshape((-1,im_size,im_size,3))\n",
        "Y2 = np.asarray(Y2).astype('float32').reshape((-1,1))\n",
        "\n",
        "file_path= \"model3.h5\"\n",
        "model_checkpoint_callback = tf.keras.callbacks.ModelCheckpoint(filepath=file_path,\n",
        "                                                               monitor='val_accuracy',\n",
        "                                                               save_best_only=True)\n",
        "\n",
        "\n",
        "history = model.fit(X, Y, epochs=40, callbacks=[model_checkpoint_callback],verbose=1, validation_data=(X2, Y2))\n",
        "# history = model.fit(train_generator, epochs=25,validation_data = validation_generator, verbose = 1)\n",
        "\n",
        "\n",
        "import matplotlib.pyplot as plt\n",
        "\n",
        "# Plot the results\n",
        "acc = history.history['accuracy']\n",
        "val_acc = history.history['val_accuracy']\n",
        "loss = history.history['loss']\n",
        "val_loss = history.history['val_loss']\n",
        "\n",
        "epochs = range(len(acc))\n",
        "\n",
        "plt.plot(epochs, acc, 'r', label='Training accuracy')\n",
        "plt.plot(epochs, val_acc, 'b', label='Validation accuracy')\n",
        "plt.title('Training and validation accuracy')\n",
        "plt.legend(loc=0)\n",
        "plt.figure()\n",
        "\n",
        "plt.show()\n",
        "\n",
        "from keras.models import load_model\n",
        "model = load_model('model3.h5')\n",
        "\n",
        "_,acc=model.evaluate(X2,Y2)\n",
        "print(acc*100)\n",
        "\n"
      ],
      "id": "8d9d9246"
    },
    {
      "cell_type": "code",
      "execution_count": null,
      "metadata": {
        "id": "1997e544"
      },
      "outputs": [],
      "source": [],
      "id": "1997e544"
    },
    {
      "cell_type": "code",
      "execution_count": null,
      "metadata": {
        "id": "d2079fbc"
      },
      "outputs": [],
      "source": [],
      "id": "d2079fbc"
    }
  ],
  "metadata": {
    "colab": {
      "provenance": []
    },
    "kernelspec": {
      "display_name": "Python 3 (ipykernel)",
      "language": "python",
      "name": "python3"
    },
    "language_info": {
      "codemirror_mode": {
        "name": "ipython",
        "version": 3
      },
      "file_extension": ".py",
      "mimetype": "text/x-python",
      "name": "python",
      "nbconvert_exporter": "python",
      "pygments_lexer": "ipython3",
      "version": "3.8.16"
    }
  },
  "nbformat": 4,
  "nbformat_minor": 5
}